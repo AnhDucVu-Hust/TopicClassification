{
  "nbformat": 4,
  "nbformat_minor": 0,
  "metadata": {
    "colab": {
      "name": "Preprocessing",
      "provenance": []
    },
    "kernelspec": {
      "name": "python3",
      "display_name": "Python 3"
    },
    "language_info": {
      "name": "python"
    }
  },
  "cells": [
    {
      "cell_type": "code",
      "execution_count": 9,
      "metadata": {
        "colab": {
          "base_uri": "https://localhost:8080/"
        },
        "id": "eKfAsPApOd29",
        "outputId": "6beb9319-d1f8-4b29-f748-ae3b08207a19"
      },
      "outputs": [
        {
          "output_type": "stream",
          "name": "stdout",
          "text": [
            "Looking in indexes: https://pypi.org/simple, https://us-python.pkg.dev/colab-wheels/public/simple/\n",
            "Requirement already satisfied: pyvi in /usr/local/lib/python3.7/dist-packages (0.1.1)\n",
            "Requirement already satisfied: sklearn-crfsuite in /usr/local/lib/python3.7/dist-packages (from pyvi) (0.3.6)\n",
            "Requirement already satisfied: scikit-learn in /usr/local/lib/python3.7/dist-packages (from pyvi) (1.0.2)\n",
            "Requirement already satisfied: joblib>=0.11 in /usr/local/lib/python3.7/dist-packages (from scikit-learn->pyvi) (1.1.0)\n",
            "Requirement already satisfied: threadpoolctl>=2.0.0 in /usr/local/lib/python3.7/dist-packages (from scikit-learn->pyvi) (3.1.0)\n",
            "Requirement already satisfied: numpy>=1.14.6 in /usr/local/lib/python3.7/dist-packages (from scikit-learn->pyvi) (1.21.6)\n",
            "Requirement already satisfied: scipy>=1.1.0 in /usr/local/lib/python3.7/dist-packages (from scikit-learn->pyvi) (1.4.1)\n",
            "Requirement already satisfied: tabulate in /usr/local/lib/python3.7/dist-packages (from sklearn-crfsuite->pyvi) (0.8.9)\n",
            "Requirement already satisfied: six in /usr/local/lib/python3.7/dist-packages (from sklearn-crfsuite->pyvi) (1.15.0)\n",
            "Requirement already satisfied: python-crfsuite>=0.8.3 in /usr/local/lib/python3.7/dist-packages (from sklearn-crfsuite->pyvi) (0.9.8)\n",
            "Requirement already satisfied: tqdm>=2.0 in /usr/local/lib/python3.7/dist-packages (from sklearn-crfsuite->pyvi) (4.64.0)\n",
            "Looking in indexes: https://pypi.org/simple, https://us-python.pkg.dev/colab-wheels/public/simple/\n",
            "Requirement already satisfied: tqdm in /usr/local/lib/python3.7/dist-packages (4.64.0)\n"
          ]
        }
      ],
      "source": [
        "!pip install pyvi\n",
        "!pip install tqdm"
      ]
    },
    {
      "cell_type": "code",
      "source": [
        "import pandas as pd\n",
        "from pyvi import ViTokenizer, ViPosTagger\n",
        "import numpy as np\n",
        "import re\n",
        "from tqdm import tqdm"
      ],
      "metadata": {
        "id": "lbsqTCEAOif3"
      },
      "execution_count": 19,
      "outputs": []
    },
    {
      "cell_type": "code",
      "source": [
        "data=pd.read_excel(\"/content/drive/MyDrive/data.xlsx\")\n",
        "X=list(data['text'])\n",
        "y=list(data['Cấp 2'])"
      ],
      "metadata": {
        "id": "iY3njkxSOsvu"
      },
      "execution_count": 6,
      "outputs": []
    },
    {
      "cell_type": "code",
      "source": [
        "def standard_data(data):\n",
        "    for id in range(len(data)):\n",
        "        data[id] = re.sub(r\"[\\.,\\?]+$-\", \"\", data[id])\n",
        "        data[id] = data[id].replace(\",\", \" \").replace(\".\", \" \") \\\n",
        "            .replace(\";\", \" \").replace(\"“\", \" \") \\\n",
        "            .replace(\":\", \" \").replace(\"”\", \" \") \\\n",
        "            .replace('\"', \" \").replace(\"'\", \" \") \\\n",
        "            .replace(\"!\", \" \").replace(\"?\", \" \") \\\n",
        "            .replace(\"-\", \" \").replace(\"|\", \" \")\n",
        "        data[id] = data[id].strip().lower()\n",
        "        data[id] = re.sub(r'\\s\\s+', ' ', data[id])\n",
        "    return data"
      ],
      "metadata": {
        "id": "4Q2yhp74OwRD"
      },
      "execution_count": 7,
      "outputs": []
    },
    {
      "cell_type": "code",
      "source": [
        "def remove_stopword(texts,stop_word):\n",
        "  data=[]\n",
        "  for i in tqdm(range(len(texts))):\n",
        "    data.append(\" \".join([word for word in texts[i].split() if word not in stop_word]))\n",
        "  return data\n",
        "with open(\"/content/drive/MyDrive/stopword.txt\",encoding=\"UTF-8\") as f:\n",
        "    stop_word=f.read().splitlines()"
      ],
      "metadata": {
        "id": "szfBEXXjPN00"
      },
      "execution_count": 8,
      "outputs": []
    },
    {
      "cell_type": "code",
      "source": [
        "def syllable(texts):\n",
        "  docs=[]\n",
        "  for id in tqdm(range(len(texts))):\n",
        "    docs.append(ViTokenizer.tokenize(texts[id]))\n",
        "  return docs"
      ],
      "metadata": {
        "id": "ZwBvHB33PUC9"
      },
      "execution_count": 17,
      "outputs": []
    },
    {
      "cell_type": "code",
      "source": [
        "y=list(y)\n",
        "X=standard_data(X)\n",
        "X=remove_stopword(X,stop_word)"
      ],
      "metadata": {
        "colab": {
          "base_uri": "https://localhost:8080/"
        },
        "id": "pZIjHf4XPvhR",
        "outputId": "795840ba-af4d-481b-a636-4cf85f41e385"
      },
      "execution_count": 21,
      "outputs": [
        {
          "output_type": "stream",
          "name": "stderr",
          "text": [
            "100%|██████████| 7217/7217 [00:19<00:00, 362.74it/s]\n"
          ]
        },
        {
          "output_type": "stream",
          "name": "stdout",
          "text": [
            "Đã tách từ thành công\n"
          ]
        }
      ]
    },
    {
      "cell_type": "code",
      "source": [
        "X_train,X_test,y_train,y_test = train_test_split(X,y,test_size=0.2)"
      ],
      "metadata": {
        "colab": {
          "base_uri": "https://localhost:8080/"
        },
        "id": "XsFV9fCbPzcO",
        "outputId": "bf4341b1-45f4-4bbe-c93d-20807b734cfd"
      },
      "execution_count": 15,
      "outputs": [
        {
          "output_type": "execute_result",
          "data": {
            "text/plain": [
              "7217"
            ]
          },
          "metadata": {},
          "execution_count": 15
        }
      ]
    },
    {
      "cell_type": "code",
      "source": [
        "with open(\"/content/drive/MyDrive/viettel_train_input_raw.txt\",\"w\",encoding='UTF-8') as f:\n",
        "  for line in X_train:\n",
        "    f.write(line+\"\\n\")\n",
        "with open(\"/content/drive/MyDrive/viettel_train_label_raw.txt\",\"w\",encoding='UTF-8') as f:\n",
        "    for line in y_train:\n",
        "      f.write(line+\"\\n\")\n",
        "with open(\"/content/drive/MyDrive/viettel_test_input.txt\",\"w\",encoding='UTF-8') as f:\n",
        "    for line in X_test:\n",
        "      f.write(line+\"\\n\")\n",
        "with open(\"/content/drive/MyDrive/viettel_test_label.txt\",\"w\",encoding='UTF-8') as f:\n",
        "    for line in y_test:\n",
        "      f.write(line+\"\\n\")"
      ],
      "metadata": {
        "id": "QR6hWGyjRK-G"
      },
      "execution_count": null,
      "outputs": []
    },
    {
      "cell_type": "code",
      "source": [
        "X_train=syllable(X_train)\n",
        "X_test=syllable(X_test)"
      ],
      "metadata": {
        "id": "3RGJMh7AQCOw"
      },
      "execution_count": null,
      "outputs": []
    },
    {
      "cell_type": "code",
      "source": [
        "with open(\"/content/drive/MyDrive/viettel_train_input.txt\",\"w\",encoding='UTF-8') as f:\n",
        "  for line in X_train:\n",
        "    f.write(line+\"\\n\")\n",
        "with open(\"/content/drive/MyDrive/viettel_test_input.txt\",\"w\",encoding='UTF-8') as f:\n",
        "  for line in X_test:\n",
        "    f.write(line+\"\\n\")"
      ],
      "metadata": {
        "id": "B6m7cskgRTCD"
      },
      "execution_count": null,
      "outputs": []
    }
  ]
}